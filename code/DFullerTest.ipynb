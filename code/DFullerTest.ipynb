{
 "cells": [
  {
   "cell_type": "markdown",
   "id": "minimal-consortium",
   "metadata": {},
   "source": [
    "# Stationarity detection"
   ]
  },
  {
   "cell_type": "markdown",
   "id": "geographic-pharmacy",
   "metadata": {},
   "source": [
    "In this notebook, we will do DickeyFuller test and KPSS on stock price."
   ]
  },
  {
   "cell_type": "code",
   "execution_count": 8,
   "id": "bound-smell",
   "metadata": {},
   "outputs": [],
   "source": [
    "from statsmodels.tsa.stattools import adfuller\n",
    "from statsmodels.tsa.stattools import kpss\n",
    "import numpy as np\n",
    "import pandas as pd"
   ]
  },
  {
   "cell_type": "code",
   "execution_count": 3,
   "id": "alive-progressive",
   "metadata": {},
   "outputs": [],
   "source": [
    "#Load data\n",
    "stock = pd.read_csv('AALStock_processed.csv')"
   ]
  },
  {
   "cell_type": "code",
   "execution_count": 4,
   "id": "breeding-plymouth",
   "metadata": {},
   "outputs": [
    {
     "name": "stdout",
     "output_type": "stream",
     "text": [
      "[46.3, 46.7, 45.89, 46.21, 47.08, 48.48, 48.64, 48.1, 47.65, 46.75, 47.64, 47.26, 48.0, 46.94, 47.54, 47.91, 49.59, 46.95, 44.9, 44.25, 44.05, 44.01, 44.2, 45.3, 45.17, 45.06, 46.3, 46.45, 47.41, 46.57, 47.54, 46.97, 46.91, 46.81, 46.32, 46.1, 46.28, 46.32, 46.36, 47.09, 45.72, 46.82, 45.31, 44.84, 44.89, 43.33, 43.9, 42.37, 41.21, 42.09, 42.13, 41.72, 41.7, 40.42, 40.35, 41.41, 41.73, 41.74, 42.6, 41.96, 42.54, 42.3, 42.45, 40.9, 41.31, 41.72, 41.81, 42.32, 43.93, 43.96, 43.35, 44.23, 43.81, 44.4, 45.22, 45.15, 46.44, 46.61, 46.4, 43.98, 42.62, 42.08, 43.87, 43.92, 43.91, 44.51, 44.94, 47.08, 47.3, 46.54, 45.83, 46.68, 46.94, 44.92, 44.65, 45.22, 46.21, 46.66, 46.77, 48.02, 48.74, 47.96, 48.41, 49.05, 49.52, 49.74, 49.74, 50.86, 51.43, 50.27, 49.48, 49.45, 49.39, 49.11, 48.79, 49.66, 48.03, 48.43, 48.97, 48.63, 48.78, 48.5, 49.25, 49.62, 50.32, 50.39, 51.26, 52.05, 53.03, 52.66, 51.61, 53.8, 53.81, 54.22, 53.87, 53.15, 52.61, 52.34, 51.91, 51.28, 50.61, 51.01, 50.0, 50.49, 50.44, 51.06, 50.45, 50.55, 50.8, 50.58, 50.0, 49.4, 48.55, 48.35, 48.81, 48.52, 48.41, 46.03, 45.55, 45.71, 45.41, 43.97, 42.92, 45.25, 44.95, 44.56, 44.32, 44.74, 45.31, 43.92, 44.31, 43.84, 43.6, 45.86, 46.29, 47.0, 46.19, 46.0, 45.31, 44.38, 45.42, 46.29, 47.06, 47.7, 47.58, 46.85, 47.49, 47.49, 47.73, 50.51, 50.73, 50.56, 51.3, 50.6, 53.03, 52.83, 52.65, 52.7, 52.27, 52.07, 52.03, 51.51, 51.93, 50.98, 51.95, 51.02, 48.61, 47.56, 47.25, 46.82, 47.84, 47.36, 47.45, 47.51, 46.46, 46.37, 45.77, 45.82, 45.74, 45.81, 47.19, 47.68, 47.39, 47.69, 48.65, 48.66, 48.56, 48.42, 49.22, 49.25, 50.49, 49.0, 49.93, 49.47, 49.61, 50.88, 51.02, 51.3, 50.47, 50.09, 50.21, 51.06, 51.49, 51.44, 51.92, 52.79, 52.59, 52.85, 52.4, 52.46, 52.03, 52.99, 52.34, 52.67, 52.65, 52.13, 52.08, 53.78, 56.42, 58.47, 57.98, 58.16, 58.34, 58.06, 58.1, 58.29, 54.79, 53.05, 53.07, 52.68, 52.59, 54.32, 53.88, 52.1, 49.76, 51.18, 51.4, 48.6, 48.36, 50.09, 50.87, 51.07, 51.67, 51.58, 51.72, 52.78, 52.98, 53.39, 55.0, 54.26, 54.25, 53.48, 53.18, 53.19, 53.57, 54.11, 54.79, 56.07, 56.5, 56.23, 55.28, 55.17, 55.4, 54.62, 55.32, 54.09, 52.31, 51.01, 51.86, 50.9, 50.85, 51.96, 49.78, 51.47, 52.04, 52.14, 50.29, 49.82, 47.46, 45.4, 46.57, 45.87, 46.4, 45.75, 47.76, 46.88, 46.78, 46.68, 45.69, 45.25, 42.37, 43.4, 42.93, 43.36, 42.24, 42.11, 42.86, 42.44, 43.0, 41.5, 42.04, 42.6, 42.46, 43.19, 44.06, 43.63, 43.38, 44.28, 42.88, 42.8, 43.56, 44.91, 43.59, 43.3, 43.54, 44.0, 44.86, 44.18, 44.19, 43.84, 43.11, 44.16, 43.41, 42.92, 43.08, 42.77, 42.44, 41.51, 42.03, 41.49, 41.35, 39.68, 39.09, 38.26, 38.2, 37.96, 38.36, 37.75, 37.99, 38.09, 39.31, 39.12, 35.96, 36.33, 37.12, 37.28, 37.38, 38.37, 38.13, 37.88, 38.04, 37.45, 38.19, 40.02, 39.69, 38.97, 39.54, 38.14, 37.93, 38.42, 38.41, 38.26, 38.38, 37.92, 37.26, 36.79, 37.09, 37.44, 38.16, 37.79, 39.99, 40.33, 39.19, 38.83, 38.82, 39.52, 40.69, 40.5, 40.4, 40.48, 40.77, 39.67, 38.48, 38.43, 39.43, 40.18, 39.26, 39.48, 39.74, 40.32, 40.79, 41.6, 41.89, 43.6, 41.98, 40.81, 41.04, 41.5, 41.33, 39.61, 38.5, 38.8, 37.92, 36.44, 35.9, 33.55, 31.61, 31.27, 30.91, 31.78, 33.28, 33.57, 32.06, 32.04, 32.16, 32.38, 30.34, 32.37, 32.46, 32.6, 34.66, 35.08, 36.37, 36.33, 35.72, 35.17, 36.97, 36.86, 36.22, 36.86, 37.78, 38.11, 37.82, 36.75, 35.82, 35.59, 36.31, 37.95, 38.1, 38.29, 38.94, 38.42, 40.16, 39.65, 36.69, 36.94, 33.57, 33.84, 34.1, 34.35, 32.46, 32.41, 32.04, 33.54, 32.42, 31.89, 30.78, 29.72, 32.29, 32.04, 31.83, 32.11, 32.48, 30.06, 32.04, 32.95, 32.42, 33.42, 32.04, 31.8, 31.71, 32.1, 32.84, 33.58, 33.97, 32.74, 31.65, 33.66, 34.98, 36.57, 36.29, 36.34, 35.77, 36.11, 36.78, 36.93, 36.76, 36.17, 36.0, 36.59, 35.75, 36.21, 36.11, 35.05, 35.47, 35.06, 34.98, 35.49, 35.9, 36.25, 35.69, 35.63, 34.64, 33.72, 33.23, 32.76, 32.22, 31.91, 32.05, 30.92, 31.84, 32.13, 31.43, 31.38, 31.59, 30.96, 31.45, 30.57, 30.21, 30.21, 30.94, 30.9, 31.76, 32.35, 32.99, 33.71, 33.93, 34.06, 33.88, 33.31, 34.02, 34.81, 34.69, 33.75, 34.03, 34.38, 34.37, 33.48, 33.97, 33.99, 33.41, 33.06, 33.77, 34.18, 33.91, 33.95, 34.79, 34.75, 33.91, 33.75, 33.95, 33.99, 32.14, 32.34, 32.16, 32.32, 31.74, 30.96, 31.3, 29.92, 29.5, 29.17, 28.73, 28.41, 28.17, 27.23, 27.2, 29.12, 30.36, 30.38, 30.92, 30.76, 30.58, 31.1, 33.09, 32.68, 32.56, 32.52, 33.21, 32.15, 31.57, 31.82, 31.26, 31.46, 32.15, 32.61, 32.88, 32.19, 32.72, 32.46, 32.79, 32.36, 32.94, 33.03, 33.78, 33.61, 34.22, 33.26, 33.74, 33.08, 32.9, 33.73, 34.59, 31.67, 31.24, 30.74, 30.71, 30.51, 29.84, 29.45, 28.53, 28.36, 28.63, 29.08, 28.78, 27.64, 27.51, 26.1, 25.41, 25.79, 26.1, 25.83, 26.42, 26.53, 25.42, 25.19, 24.45, 25.33, 26.32, 26.31, 26.51, 27.0, 27.69, 27.79, 28.44, 29.12, 29.76, 29.94, 29.95, 27.77, 28.64, 28.6, 28.3, 27.99, 27.5, 27.0, 27.44, 27.19, 27.01, 26.97, 26.8, 25.37, 25.27, 25.83, 25.83, 26.26, 27.07, 27.18, 27.36, 27.62, 28.27, 28.05, 27.93, 28.22, 28.62, 28.26, 28.29, 29.41, 30.86, 31.36, 30.92, 30.29, 30.06, 30.56, 30.95, 31.18, 30.96, 30.89, 30.76, 30.59, 29.52, 28.66, 28.77, 28.86, 28.6, 29.29, 28.23, 27.93, 28.68, 28.99, 29.05, 28.95, 28.74, 28.08, 27.29, 27.38, 27.24, 27.73, 27.49, 27.0, 26.86, 27.72, 27.48, 27.92, 28.28, 28.0, 28.55, 29.04, 29.3, 29.18, 29.67, 28.44, 28.3, 28.68, 29.09, 27.65, 27.32, 27.22, 27.84, 27.95, 27.32, 27.39, 27.53, 27.58, 28.23, 28.4, 27.2, 27.32, 28.8, 27.64, 26.11, 26.9, 26.8, 27.72, 26.84, 27.16, 28.43, 29.1, 28.3, 28.38, 28.79, 29.84, 30.47, 30.09, 29.2, 28.63, 28.33, 28.51, 27.82, 25.45, 23.12, 22.31, 20.6, 19.05, 18.86, 17.85, 18.53, 16.04, 15.97, 14.75, 17.0, 16.26, 13.45, 14.31, 15.92, 15.58, 11.65, 10.29, 10.38, 10.25, 13.92, 15.39, 15.66, 14.04, 12.25, 12.19, 10.69, 10.06, 9.39, 9.5, 10.22, 11.33, 12.51, 11.56, 11.95, 12.29, 11.07, 11.57, 11.06, 11.0, 10.27, 10.25, 10.31, 10.02, 11.26, 12.63, 12.01, 10.64, 9.82, 9.51, 9.25, 9.54, 10.14, 10.1, 9.65, 9.11, 9.15, 9.04, 9.87, 9.64, 9.87, 9.89, 9.7, 11.14, 11.98, 10.98, 10.5, 11.11, 11.22, 11.85, 20.31, 18.55, 17.02, 14.38, 16.74, 16.7, 17.03, 16.98, 16.49, 16.0, 14.92, 14.0, 13.04, 13.17, 12.38, 13.32, 13.07, 12.81, 12.5, 12.8, 11.91, 11.99, 11.18, 11.94, 11.63, 11.57, 13.44, 12.45, 11.91, 11.47, 11.47, 11.36, 11.77, 11.39, 11.39, 11.77, 11.4, 11.18, 11.12, 11.08, 11.47, 12.56, 13.04, 13.03, 14.0, 13.73, 13.54, 13.3, 13.33, 12.62, 12.6, 12.68, 12.5, 12.16, 13.44, 13.14, 12.79, 13.28, 13.59, 13.05, 13.1, 13.23, 13.36, 13.61, 13.63, 13.05, 13.01, 12.95, 13.26, 13.14, 13.8, 13.63, 13.19, 12.21, 12.34, 11.93, 11.77, 12.29, 12.76, 12.25, 12.29, 12.58, 13.0, 13.12, 12.53, 13.07, 13.16, 13.2, 12.92, 12.22, 12.36, 12.23, 12.46, 12.56, 12.8, 12.75, 13.15, 12.6, 11.8, 11.23, 10.95, 11.16, 11.28, 11.19, 11.25, 11.01, 11.6, 11.46, 13.2, 12.38, 12.04, 11.74, 12.24, 12.79, 12.7, 12.74, 12.79, 12.53, 13.56, 14.94, 14.98, 14.13, 14.27, 14.86, 16.09, 16.4, 17.21, 17.63, 17.16, 17.05, 16.7, 17.01, 16.86, 16.8, 16.51, 16.1, 15.48, 15.89, 15.66, 16.06, 15.86, 16.15, 15.77]\n"
     ]
    }
   ],
   "source": [
    "#Extract closing price\n",
    "x = stock['Close'].tolist()\n",
    "print(x)"
   ]
  },
  {
   "cell_type": "code",
   "execution_count": 7,
   "id": "psychological-desperate",
   "metadata": {},
   "outputs": [
    {
     "name": "stdout",
     "output_type": "stream",
     "text": [
      "ADF Statistic: -0.821364\n",
      "p-value: 0.812766\n",
      "critical values:\n",
      "\t1%:-3.437\n",
      "\t5%:-2.864\n",
      "\t10%:-2.568\n"
     ]
    }
   ],
   "source": [
    "#commit adfuller test\n",
    "result = adfuller(x)\n",
    "print('ADF Statistic: %f'%result[0])\n",
    "print('p-value: %f'%result[1])\n",
    "print('critical values:')\n",
    "for key,value in result[4].items():\n",
    "    print('\\t%s:%.3f' % (key,value))"
   ]
  },
  {
   "cell_type": "code",
   "execution_count": 10,
   "id": "jewish-reproduction",
   "metadata": {},
   "outputs": [
    {
     "name": "stdout",
     "output_type": "stream",
     "text": [
      "KPSS Statistic: 3.990082\n",
      "p-value: 0.010000\n",
      "critical values:\n",
      "\t10%:0.347\n",
      "\t5%:0.463\n",
      "\t2.5%:0.574\n",
      "\t1%:0.739\n"
     ]
    },
    {
     "name": "stderr",
     "output_type": "stream",
     "text": [
      "E:\\Anaconda\\envs\\amls_2\\lib\\site-packages\\statsmodels\\tsa\\stattools.py:1882: InterpolationWarning: The test statistic is outside of the range of p-values available in the\n",
      "look-up table. The actual p-value is smaller than the p-value returned.\n",
      "\n",
      "  warn_msg.format(direction=\"smaller\"), InterpolationWarning\n"
     ]
    }
   ],
   "source": [
    "# commit kpss test\n",
    "kpsstest = kpss(x,regression = 'c')\n",
    "print('KPSS Statistic: %f'%kpsstest[0])\n",
    "print('p-value: %f'%kpsstest[1])\n",
    "print('critical values:')\n",
    "for key,value in kpsstest[3].items():\n",
    "    print('\\t%s:%.3f' % (key,value))"
   ]
  },
  {
   "cell_type": "markdown",
   "id": "documentary-trinidad",
   "metadata": {},
   "source": [
    "Both of the tests result with statistics higher than critical values, therefore the original curve is not stationary.\n",
    "And we should do DM on the data"
   ]
  },
  {
   "cell_type": "code",
   "execution_count": 11,
   "id": "unauthorized-valuation",
   "metadata": {},
   "outputs": [
    {
     "name": "stdout",
     "output_type": "stream",
     "text": [
      "[ 0.4  -0.81  0.32 ... -0.2   0.29 -0.38]\n"
     ]
    }
   ],
   "source": [
    "# diff tool given by numpy package\n",
    "x = np.diff(x)\n",
    "print(x)"
   ]
  },
  {
   "cell_type": "code",
   "execution_count": 12,
   "id": "disturbed-reserve",
   "metadata": {},
   "outputs": [
    {
     "name": "stdout",
     "output_type": "stream",
     "text": [
      "ADF Statistic: -30.303976\n",
      "p-value: 0.000000\n",
      "critical values:\n",
      "\t1%:-3.437\n",
      "\t5%:-2.864\n",
      "\t10%:-2.568\n"
     ]
    }
   ],
   "source": [
    "#commit adfuller test\n",
    "result = adfuller(x)\n",
    "print('ADF Statistic: %f'%result[0])\n",
    "print('p-value: %f'%result[1])\n",
    "print('critical values:')\n",
    "for key,value in result[4].items():\n",
    "    print('\\t%s:%.3f' % (key,value))"
   ]
  },
  {
   "cell_type": "code",
   "execution_count": 13,
   "id": "jewish-trader",
   "metadata": {},
   "outputs": [
    {
     "name": "stdout",
     "output_type": "stream",
     "text": [
      "KPSS Statistic: 0.062130\n",
      "p-value: 0.100000\n",
      "critical values:\n",
      "\t10%:0.347\n",
      "\t5%:0.463\n",
      "\t2.5%:0.574\n",
      "\t1%:0.739\n"
     ]
    },
    {
     "name": "stderr",
     "output_type": "stream",
     "text": [
      "E:\\Anaconda\\envs\\amls_2\\lib\\site-packages\\statsmodels\\tsa\\stattools.py:1850: FutureWarning: The behavior of using nlags=None will change in release 0.13.Currently nlags=None is the same as nlags=\"legacy\", and so a sample-size lag length is used. After the next release, the default will change to be the same as nlags=\"auto\" which uses an automatic lag length selection method. To silence this warning, either use \"auto\" or \"legacy\"\n",
      "  warnings.warn(msg, FutureWarning)\n",
      "E:\\Anaconda\\envs\\amls_2\\lib\\site-packages\\statsmodels\\tsa\\stattools.py:1886: InterpolationWarning: The test statistic is outside of the range of p-values available in the\n",
      "look-up table. The actual p-value is greater than the p-value returned.\n",
      "\n",
      "  warn_msg.format(direction=\"greater\"), InterpolationWarning\n"
     ]
    }
   ],
   "source": [
    "# commit kpss test\n",
    "kpsstest = kpss(x,regression = 'c')\n",
    "print('KPSS Statistic: %f'%kpsstest[0])\n",
    "print('p-value: %f'%kpsstest[1])\n",
    "print('critical values:')\n",
    "for key,value in kpsstest[3].items():\n",
    "    print('\\t%s:%.3f' % (key,value))"
   ]
  },
  {
   "cell_type": "code",
   "execution_count": null,
   "id": "useful-absorption",
   "metadata": {},
   "outputs": [],
   "source": []
  }
 ],
 "metadata": {
  "kernelspec": {
   "display_name": "amls_2",
   "language": "python",
   "name": "amls_2"
  },
  "language_info": {
   "codemirror_mode": {
    "name": "ipython",
    "version": 3
   },
   "file_extension": ".py",
   "mimetype": "text/x-python",
   "name": "python",
   "nbconvert_exporter": "python",
   "pygments_lexer": "ipython3",
   "version": "3.6.12"
  }
 },
 "nbformat": 4,
 "nbformat_minor": 5
}
