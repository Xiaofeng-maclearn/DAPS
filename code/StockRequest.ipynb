{
 "cells": [
  {
   "cell_type": "markdown",
   "metadata": {},
   "source": [
    "## Download AAL Stock Price"
   ]
  },
  {
   "cell_type": "code",
   "execution_count": 1,
   "metadata": {},
   "outputs": [],
   "source": [
    "#Import libraries\n",
    "import numpy as np\n",
    "import pandas as pd"
   ]
  },
  {
   "cell_type": "code",
   "execution_count": 96,
   "metadata": {},
   "outputs": [
    {
     "name": "stdout",
     "output_type": "stream",
     "text": [
      "b'{\"DataStatus\":{\"RequestParameter\":\"symbol=AAL\\\\u0026beginDate=20201201\\\\u0026endDate=20201231\",\"StatusCode\":100,\"StatusDescription\":\"\\xe8\\xaf\\xb7\\xe6\\xb1\\x82\\xe6\\x88\\x90\\xe5\\x8a\\x9f\",\"ResponseDateTime\":\"2021-01-16 15:34:00\",\"DataTotalCount\":21},\"Data\":[{\"Symbol\":\"AAL\",\"TimeKey\":20201201,\"Open\":14.42,\"Close\":14.27,\"High\":14.78,\"Low\":14.24,\"Volume\":72526650},{\"Symbol\":\"AAL\",\"TimeKey\":20201202,\"Open\":14.16,\"Close\":14.86,\"High\":14.86,\"Low\":13.85,\"Volume\":71306685},{\"Symbol\":\"AAL\",\"TimeKey\":20201203,\"Open\":15.19,\"Close\":16.09,\"High\":16.5,\"Low\":15.16,\"Volume\":164640338},{\"Symbol\":\"AAL\",\"TimeKey\":20201204,\"Open\":16.4,\"Close\":16.4,\"High\":16.93,\"Low\":16.12,\"Volume\":107795587},{\"Symbol\":\"AAL\",\"TimeKey\":20201207,\"Open\":16.54,\"Close\":17.21,\"High\":18.07,\"Low\":16.47,\"Volume\":152630525},{\"Symbol\":\"AAL\",\"TimeKey\":20201208,\"Open\":17.47,\"Close\":17.63,\"High\":17.92,\"Low\":17.16,\"Volume\":91252193},{\"Symbol\":\"AAL\",\"TimeKey\":20201209,\"Open\":18.37,\"Close\":17.16,\"High\":18.63,\"Low\":16.63,\"Volume\":132409541},{\"Symbol\":\"AAL\",\"TimeKey\":20201211,\"Open\":17.82,\"Close\":17.05,\"High\":17.91,\"Low\":16.81,\"Volume\":97861089},{\"Symbol\":\"AAL\",\"TimeKey\":20201214,\"Open\":17.52,\"Close\":16.7,\"High\":17.81,\"Low\":16.68,\"Volume\":83257152},{\"Symbol\":\"AAL\",\"TimeKey\":20201215,\"Open\":16.99,\"Close\":17.01,\"High\":17.06,\"Low\":16.16,\"Volume\":85459589},{\"Symbol\":\"AAL\",\"TimeKey\":20201216,\"Open\":16.88,\"Close\":16.86,\"High\":17.04,\"Low\":16.58,\"Volume\":55146876},{\"Symbol\":\"AAL\",\"TimeKey\":20201217,\"Open\":16.95,\"Close\":16.8,\"High\":16.99,\"Low\":16.65,\"Volume\":46480268},{\"Symbol\":\"AAL\",\"TimeKey\":20201218,\"Open\":16.74,\"Close\":16.51,\"High\":16.74,\"Low\":16.29,\"Volume\":65932330},{\"Symbol\":\"AAL\",\"TimeKey\":20201221,\"Open\":15.77,\"Close\":16.1,\"High\":16.24,\"Low\":15.56,\"Volume\":77978291},{\"Symbol\":\"AAL\",\"TimeKey\":20201222,\"Open\":16.34,\"Close\":15.48,\"High\":16.38,\"Low\":15.45,\"Volume\":70687644},{\"Symbol\":\"AAL\",\"TimeKey\":20201223,\"Open\":15.51,\"Close\":15.89,\"High\":16.17,\"Low\":15.5,\"Volume\":59351956},{\"Symbol\":\"AAL\",\"TimeKey\":20201224,\"Open\":16.04,\"Close\":15.66,\"High\":16.04,\"Low\":15.53,\"Volume\":29393443},{\"Symbol\":\"AAL\",\"TimeKey\":20201228,\"Open\":15.97,\"Close\":16.06,\"High\":16.46,\"Low\":15.91,\"Volume\":56629125},{\"Symbol\":\"AAL\",\"TimeKey\":20201229,\"Open\":16.32,\"Close\":15.86,\"High\":16.41,\"Low\":15.75,\"Volume\":49187272},{\"Symbol\":\"AAL\",\"TimeKey\":20201230,\"Open\":15.85,\"Close\":16.15,\"High\":16.2,\"Low\":15.72,\"Volume\":47919183},{\"Symbol\":\"AAL\",\"TimeKey\":20201231,\"Open\":16.08,\"Close\":15.77,\"High\":16.09,\"Low\":15.63,\"Volume\":56555621}]}'\n"
     ]
    }
   ],
   "source": [
    "import requests\n",
    "#Provide url address\n",
    "#Parameters: appkey is my key, symbol is stock code, only data for no more than 31 days is allowed to download each time\n",
    "url = \"https://api.gugudata.com/stock/us?appkey=J8BK5FR8HUWZ&symbol=AAL&beginDate=20201201&endDate=20201231\"\n",
    "#Variables storing content and headers\n",
    "payload = {}\n",
    "headers= {}\n",
    "#The return data type is JSON, so we have to print out\n",
    "response = requests.request(\"GET\", url, headers=headers, data = payload)\n",
    "print(response.text.encode('utf8'))"
   ]
  },
  {
   "cell_type": "code",
   "execution_count": 3,
   "metadata": {},
   "outputs": [],
   "source": [
    "#variable storing the list of stock information\n",
    "data = [{\"Symbol\":\"AAL\",\"TimeKey\":20170103,\"Open\":47.28,\"Close\":46.3,\"High\":47.34,\"Low\":46.14,\"Volume\":6737800},{\"Symbol\":\"AAL\",\"TimeKey\":20170104,\"Open\":46.63,\"Close\":46.7,\"High\":47.44,\"Low\":46.35,\"Volume\":5859600},{\"Symbol\":\"AAL\",\"TimeKey\":20170105,\"Open\":46.52,\"Close\":45.89,\"High\":46.93,\"Low\":45.61,\"Volume\":6825300},{\"Symbol\":\"AAL\",\"TimeKey\":20170106,\"Open\":45.85,\"Close\":46.21,\"High\":46.72,\"Low\":45.47,\"Volume\":7260200},{\"Symbol\":\"AAL\",\"TimeKey\":20170109,\"Open\":46.01,\"Close\":47.08,\"High\":47.34,\"Low\":45.78,\"Volume\":4739100},{\"Symbol\":\"AAL\",\"TimeKey\":20170110,\"Open\":47,\"Close\":48.48,\"High\":48.51,\"Low\":46.97,\"Volume\":7483800},{\"Symbol\":\"AAL\",\"TimeKey\":20170111,\"Open\":49.29,\"Close\":48.64,\"High\":49.9,\"Low\":48.1,\"Volume\":6925800},{\"Symbol\":\"AAL\",\"TimeKey\":20170112,\"Open\":48.67,\"Close\":48.1,\"High\":49,\"Low\":46.84,\"Volume\":5447300},{\"Symbol\":\"AAL\",\"TimeKey\":20170113,\"Open\":48.16,\"Close\":47.65,\"High\":48.43,\"Low\":47.54,\"Volume\":3541700},{\"Symbol\":\"AAL\",\"TimeKey\":20170117,\"Open\":47.56,\"Close\":46.75,\"High\":47.75,\"Low\":46.67,\"Volume\":5350800},{\"Symbol\":\"AAL\",\"TimeKey\":20170118,\"Open\":47.4,\"Close\":47.64,\"High\":47.8,\"Low\":46.65,\"Volume\":5176500},{\"Symbol\":\"AAL\",\"TimeKey\":20170119,\"Open\":47.64,\"Close\":47.26,\"High\":48.09,\"Low\":46.88,\"Volume\":3729300},{\"Symbol\":\"AAL\",\"TimeKey\":20170120,\"Open\":47.54,\"Close\":48,\"High\":48.16,\"Low\":47.24,\"Volume\":5611800},{\"Symbol\":\"AAL\",\"TimeKey\":20170123,\"Open\":47.9,\"Close\":46.94,\"High\":48.09,\"Low\":46.75,\"Volume\":4284200},{\"Symbol\":\"AAL\",\"TimeKey\":20170124,\"Open\":47.05,\"Close\":47.54,\"High\":47.8,\"Low\":46.8,\"Volume\":4926700},{\"Symbol\":\"AAL\",\"TimeKey\":20170125,\"Open\":47.9,\"Close\":47.91,\"High\":48.21,\"Low\":47.61,\"Volume\":5075800},{\"Symbol\":\"AAL\",\"TimeKey\":20170126,\"Open\":48.43,\"Close\":49.59,\"High\":49.71,\"Low\":48.33,\"Volume\":10332800},{\"Symbol\":\"AAL\",\"TimeKey\":20170127,\"Open\":50,\"Close\":46.95,\"High\":50,\"Low\":46.72,\"Volume\":19411100},{\"Symbol\":\"AAL\",\"TimeKey\":20170130,\"Open\":45.62,\"Close\":44.9,\"High\":45.92,\"Low\":43.86,\"Volume\":16786100},{\"Symbol\":\"AAL\",\"TimeKey\":20170131,\"Open\":44.79,\"Close\":44.25,\"High\":44.84,\"Low\":43.74,\"Volume\":11719800}]"
   ]
  },
  {
   "cell_type": "code",
   "execution_count": 97,
   "metadata": {},
   "outputs": [],
   "source": [
    "#This is done manually, each time data for a month is printed out, and I copy here to add to the list.\n",
    "next = [{\"Symbol\":\"AAL\",\"TimeKey\":20201201,\"Open\":14.42,\"Close\":14.27,\"High\":14.78,\"Low\":14.24,\"Volume\":72526650},{\"Symbol\":\"AAL\",\"TimeKey\":20201202,\"Open\":14.16,\"Close\":14.86,\"High\":14.86,\"Low\":13.85,\"Volume\":71306685},{\"Symbol\":\"AAL\",\"TimeKey\":20201203,\"Open\":15.19,\"Close\":16.09,\"High\":16.5,\"Low\":15.16,\"Volume\":164640338},{\"Symbol\":\"AAL\",\"TimeKey\":20201204,\"Open\":16.4,\"Close\":16.4,\"High\":16.93,\"Low\":16.12,\"Volume\":107795587},{\"Symbol\":\"AAL\",\"TimeKey\":20201207,\"Open\":16.54,\"Close\":17.21,\"High\":18.07,\"Low\":16.47,\"Volume\":152630525},{\"Symbol\":\"AAL\",\"TimeKey\":20201208,\"Open\":17.47,\"Close\":17.63,\"High\":17.92,\"Low\":17.16,\"Volume\":91252193},{\"Symbol\":\"AAL\",\"TimeKey\":20201209,\"Open\":18.37,\"Close\":17.16,\"High\":18.63,\"Low\":16.63,\"Volume\":132409541},{\"Symbol\":\"AAL\",\"TimeKey\":20201211,\"Open\":17.82,\"Close\":17.05,\"High\":17.91,\"Low\":16.81,\"Volume\":97861089},{\"Symbol\":\"AAL\",\"TimeKey\":20201214,\"Open\":17.52,\"Close\":16.7,\"High\":17.81,\"Low\":16.68,\"Volume\":83257152},{\"Symbol\":\"AAL\",\"TimeKey\":20201215,\"Open\":16.99,\"Close\":17.01,\"High\":17.06,\"Low\":16.16,\"Volume\":85459589},{\"Symbol\":\"AAL\",\"TimeKey\":20201216,\"Open\":16.88,\"Close\":16.86,\"High\":17.04,\"Low\":16.58,\"Volume\":55146876},{\"Symbol\":\"AAL\",\"TimeKey\":20201217,\"Open\":16.95,\"Close\":16.8,\"High\":16.99,\"Low\":16.65,\"Volume\":46480268},{\"Symbol\":\"AAL\",\"TimeKey\":20201218,\"Open\":16.74,\"Close\":16.51,\"High\":16.74,\"Low\":16.29,\"Volume\":65932330},{\"Symbol\":\"AAL\",\"TimeKey\":20201221,\"Open\":15.77,\"Close\":16.1,\"High\":16.24,\"Low\":15.56,\"Volume\":77978291},{\"Symbol\":\"AAL\",\"TimeKey\":20201222,\"Open\":16.34,\"Close\":15.48,\"High\":16.38,\"Low\":15.45,\"Volume\":70687644},{\"Symbol\":\"AAL\",\"TimeKey\":20201223,\"Open\":15.51,\"Close\":15.89,\"High\":16.17,\"Low\":15.5,\"Volume\":59351956},{\"Symbol\":\"AAL\",\"TimeKey\":20201224,\"Open\":16.04,\"Close\":15.66,\"High\":16.04,\"Low\":15.53,\"Volume\":29393443},{\"Symbol\":\"AAL\",\"TimeKey\":20201228,\"Open\":15.97,\"Close\":16.06,\"High\":16.46,\"Low\":15.91,\"Volume\":56629125},{\"Symbol\":\"AAL\",\"TimeKey\":20201229,\"Open\":16.32,\"Close\":15.86,\"High\":16.41,\"Low\":15.75,\"Volume\":49187272},{\"Symbol\":\"AAL\",\"TimeKey\":20201230,\"Open\":15.85,\"Close\":16.15,\"High\":16.2,\"Low\":15.72,\"Volume\":47919183},{\"Symbol\":\"AAL\",\"TimeKey\":20201231,\"Open\":16.08,\"Close\":15.77,\"High\":16.09,\"Low\":15.63,\"Volume\":56555621}]\n",
    "\n",
    "data.extend(next)"
   ]
  },
  {
   "cell_type": "code",
   "execution_count": 98,
   "metadata": {},
   "outputs": [],
   "source": [
    "#Change the type of data from list to dataframe\n",
    "Data = pd.DataFrame(data,columns=['TimeKey','Open','Close','High','Low','Volume'])"
   ]
  },
  {
   "cell_type": "code",
   "execution_count": 99,
   "metadata": {},
   "outputs": [],
   "source": [
    "#Store as csv.\n",
    "Data.to_csv('data.csv', index=True, header=True)"
   ]
  },
  {
   "cell_type": "code",
   "execution_count": null,
   "metadata": {},
   "outputs": [],
   "source": []
  }
 ],
 "metadata": {
  "kernelspec": {
   "display_name": "Python 3",
   "language": "python",
   "name": "python3"
  },
  "language_info": {
   "codemirror_mode": {
    "name": "ipython",
    "version": 3
   },
   "file_extension": ".py",
   "mimetype": "text/x-python",
   "name": "python",
   "nbconvert_exporter": "python",
   "pygments_lexer": "ipython3",
   "version": "3.6.12"
  }
 },
 "nbformat": 4,
 "nbformat_minor": 4
}
